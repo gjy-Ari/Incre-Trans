{
 "cells": [
  {
   "cell_type": "code",
   "execution_count": 1,
   "metadata": {},
   "outputs": [],
   "source": [
    "import numpy as np"
   ]
  },
  {
   "cell_type": "code",
   "execution_count": 4,
   "metadata": {},
   "outputs": [
    {
     "data": {
      "text/plain": [
       "array([1.000e-06, 1.325e-05, 2.550e-05, 3.775e-05, 5.000e-05])"
      ]
     },
     "execution_count": 4,
     "metadata": {},
     "output_type": "execute_result"
    }
   ],
   "source": [
    "np.linspace(1e-6, 5e-5, 5)\n"
   ]
  },
  {
   "cell_type": "code",
   "execution_count": 17,
   "metadata": {},
   "outputs": [],
   "source": [
    "        T_current = np.linspace(0, 10,10)\n",
    "        lr_current = 1e-6 + 0.5 * (5e-5 - 1e-6) * (\n",
    "            1 + np.cos((T_current /(10)) * np.pi))"
   ]
  },
  {
   "cell_type": "code",
   "execution_count": 18,
   "metadata": {},
   "outputs": [
    {
     "data": {
      "text/plain": [
       "array([5.00000000e-05, 4.85224692e-05, 4.42680889e-05, 3.77500000e-05,\n",
       "       2.97543804e-05, 2.12456196e-05, 1.32500000e-05, 6.73191114e-06,\n",
       "       2.47753079e-06, 1.00000000e-06])"
      ]
     },
     "execution_count": 18,
     "metadata": {},
     "output_type": "execute_result"
    }
   ],
   "source": [
    "lr_current"
   ]
  },
  {
   "cell_type": "code",
   "execution_count": null,
   "metadata": {},
   "outputs": [],
   "source": [
    "class CyclicCosineRestart(keras.callbacks.Callback):\n",
    "    def __init__(self, \n",
    "                 lr_min=1e-6, \n",
    "                 lr_max=5e-5, \n",
    "                 number_of_lr_warm_epochs=5,\n",
    "                 number_of_epochs=200,\n",
    "                 use_warmup=True):\n",
    "        super(CyclicCosineRestart, self).__init__()\n",
    "        self.number_of_lr_warm_epochs = number_of_lr_warm_epochs\n",
    "        self.number_of_epochs = number_of_epochs\n",
    "        self.lr_min = lr_min\n",
    "        self.lr_max = lr_max\n",
    "        self.use_warmup = use_warmup\n",
    "\n",
    "        self.cosine_lr()\n",
    "        self.warmup_lr()\n",
    "\n",
    "    def on_train_begin(self, logs={}):\n",
    "        K.set_value(self.model.optimizer.lr, 0.0)        \n",
    "        if self.use_warmup:\n",
    "            self.lr_iter = self.warmup_lr_iter\n",
    "        else:\n",
    "            self.lr_iter = self.cos_lr_iter\n",
    "\n",
    "    def warmup_lr(self):\n",
    "        lr_warm = np.linspace(self.lr_min, self.lr_max, self.number_of_lr_warm_epochs)\n",
    "        self.warmup_lr_iter = itertools.cycle(lr_warm.tolist())\n",
    "        \n",
    "    def cosine_lr(self):\n",
    "        T_current = np.linspace(0, self.number_of_epochs,self.number_of_epochs)\n",
    "        lr_current = self.lr_min + 0.5 * (self.lr_max - self.lr_min) * (\n",
    "            1 + np.cos((T_current /(self.number_of_epochs)) * np.pi))\n",
    "        self.cos_lr_iter = itertools.cycle(lr_current.tolist())\n",
    "\n",
    "    def update_lr(self):\n",
    "        K.set_value(self.model.optimizer.lr, next(self.lr_iter))\n",
    "\n",
    "    \n",
    "    def on_epoch_begin(self, epoch, logs={}):\n",
    "        if self.use_warmup:\n",
    "            if (epoch+1)>self.number_of_lr_warm_epochs :\n",
    "                self.lr_iter = self.cos_lr_iter\n",
    "        self.update_lr()"
   ]
  },
  {
   "cell_type": "code",
   "execution_count": 19,
   "metadata": {},
   "outputs": [
    {
     "name": "stdout",
     "output_type": "stream",
     "text": [
      "The current learning rate is 3.\n"
     ]
    }
   ],
   "source": [
    "lr=3\n",
    "print(f'The current learning rate is {lr}.')"
   ]
  },
  {
   "cell_type": "code",
   "execution_count": 21,
   "metadata": {},
   "outputs": [],
   "source": [
    "file_name = 'Austria_Vienna_x_17872_y_11364_z_15.tif'\n",
    "x= file_name.split('_')[3]\n",
    "y= file_name.split('_')[5]"
   ]
  },
  {
   "cell_type": "code",
   "execution_count": 22,
   "metadata": {},
   "outputs": [
    {
     "data": {
      "text/plain": [
       "('17872', '11364')"
      ]
     },
     "execution_count": 22,
     "metadata": {},
     "output_type": "execute_result"
    }
   ],
   "source": [
    "float(x,y"
   ]
  },
  {
   "cell_type": "code",
   "execution_count": 24,
   "metadata": {},
   "outputs": [
    {
     "data": {
      "text/plain": [
       "array(17872., dtype=float32)"
      ]
     },
     "execution_count": 24,
     "metadata": {},
     "output_type": "execute_result"
    }
   ],
   "source": [
    "np.array(x,dtype='float32')"
   ]
  },
  {
   "cell_type": "code",
   "execution_count": null,
   "metadata": {},
   "outputs": [],
   "source": []
  }
 ],
 "metadata": {
  "kernelspec": {
   "display_name": "Python 3",
   "language": "python",
   "name": "python3"
  },
  "language_info": {
   "codemirror_mode": {
    "name": "ipython",
    "version": 3
   },
   "file_extension": ".py",
   "mimetype": "text/x-python",
   "name": "python",
   "nbconvert_exporter": "python",
   "pygments_lexer": "ipython3",
   "version": "3.6.6"
  }
 },
 "nbformat": 4,
 "nbformat_minor": 2
}
